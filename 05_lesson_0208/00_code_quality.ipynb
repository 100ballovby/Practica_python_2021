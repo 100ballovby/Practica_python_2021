{
 "cells": [
  {
   "cell_type": "markdown",
   "metadata": {
    "collapsed": true
   },
   "source": [
    "## Как определить качество кода\n",
    "\n",
    "<ul>\n",
    "    <li>Readability - легко читать</li>\n",
    "    <li>Supportability - легко поддерживать</li>\n",
    "</ul>"
   ]
  },
  {
   "cell_type": "code",
   "execution_count": 1,
   "metadata": {},
   "outputs": [
    {
     "name": "stdout",
     "output_type": "stream",
     "text": [
      "The Zen of Python, by Tim Peters\n",
      "\n",
      "Beautiful is better than ugly.\n",
      "Explicit is better than implicit.\n",
      "Simple is better than complex.\n",
      "Complex is better than complicated.\n",
      "Flat is better than nested.\n",
      "Sparse is better than dense.\n",
      "Readability counts.\n",
      "Special cases aren't special enough to break the rules.\n",
      "Although practicality beats purity.\n",
      "Errors should never pass silently.\n",
      "Unless explicitly silenced.\n",
      "In the face of ambiguity, refuse the temptation to guess.\n",
      "There should be one-- and preferably only one --obvious way to do it.\n",
      "Although that way may not be obvious at first unless you're Dutch.\n",
      "Now is better than never.\n",
      "Although never is often better than *right* now.\n",
      "If the implementation is hard to explain, it's a bad idea.\n",
      "If the implementation is easy to explain, it may be a good idea.\n",
      "Namespaces are one honking great idea -- let's do more of those!\n"
     ]
    }
   ],
   "source": [
    "import this"
   ]
  },
  {
   "cell_type": "code",
   "execution_count": 2,
   "metadata": {},
   "outputs": [],
   "source": [
    "def get_dominos_prices() -> dict:\n",
    "\n",
    "    url = 'https://dominos.by/pizza/'\n",
    "    site_connection = requests.get(url)\n",
    "    parser = BeautifulSoup(site_connection.text,\n",
    "                           features='html.parser')\n",
    "\n",
    "    prod_cards = parser.findAll(\n",
    "        'div', {'class': 'product-card'}\n",
    "    )\n",
    "\n",
    "    pizzas = {}\n",
    "    for card in prod_cards:\n",
    "        pizza_name = card.find(\n",
    "            'div', {\n",
    "                'class': 'product-card__title'\n",
    "            }).text\n",
    "        pizza_price = card.find(\n",
    "            'p', {\n",
    "                'class': 'product-card__modification-info-price'\n",
    "                }).text\n",
    "        pizzas[pizza_name] = pizza_price\n",
    "\n",
    "    return pizzas\n"
   ]
  },
  {
   "cell_type": "markdown",
   "metadata": {},
   "source": [
    "## КАК?\n",
    "\n",
    "<ul>\n",
    "    <li><b>Имена переменных</b> - код считается хорошим, если при однократном прочтении не остается вопросов, что происходит</li>\n",
    "    <li><b>Длинные имена переменных</b> </li>\n",
    "    <li><b>Стили написания</b> имен переменных</li>\n",
    "    \n",
    "</ul>"
   ]
  },
  {
   "cell_type": "code",
   "execution_count": 3,
   "metadata": {},
   "outputs": [],
   "source": [
    "# переменная, которая хранит рекорд\n",
    "s = 0  # площадь?\n",
    "sc = 0  # sport complete\n",
    "scr = 0  # атрибут изображения и какого черта это число?\n",
    "\n",
    "score = 0\n",
    "high_score = 0\n",
    "player_score = 0"
   ]
  },
  {
   "cell_type": "code",
   "execution_count": 4,
   "metadata": {},
   "outputs": [],
   "source": [
    "# переменная для формы регистрации\n",
    "\n",
    "site_100ballov_register_user_form_for_pupil = ''  # <- не надо\n",
    "\n",
    "reg_form = ''\n",
    "form_for_pupil = ''\n",
    "registration_form = ''\n",
    "\n",
    "RF = '' #<- !не надо!"
   ]
  },
  {
   "cell_type": "markdown",
   "metadata": {},
   "source": [
    "## Стили написания\n",
    "\n",
    "<ul>\n",
    "    <li>CamelCase - каждое новое слово в названии начинается с большой буквы.</li>\n",
    "    <li>snake_case - слова делятся между собой знаком _</li>\n",
    "</ul>"
   ]
  },
  {
   "cell_type": "code",
   "execution_count": 5,
   "metadata": {},
   "outputs": [],
   "source": [
    "TargetLink = 'https://api.github.com/'\n",
    "\n",
    "site_connection = 'https://api.github.com/'"
   ]
  },
  {
   "cell_type": "markdown",
   "metadata": {},
   "source": [
    "## Константы\n",
    "\n"
   ]
  },
  {
   "cell_type": "code",
   "execution_count": 6,
   "metadata": {},
   "outputs": [],
   "source": [
    "# Имя константы пишется капсом и слова разделяются _\n",
    "\n",
    "API_KEY = '2urh203r09ud'  # общее соглашение, что все константы пишутся капсом"
   ]
  },
  {
   "cell_type": "code",
   "execution_count": 10,
   "metadata": {},
   "outputs": [],
   "source": [
    "я_могу_называть_переменные_так = 0"
   ]
  },
  {
   "cell_type": "code",
   "execution_count": 8,
   "metadata": {},
   "outputs": [
    {
     "name": "stdout",
     "output_type": "stream",
     "text": [
      "0\n"
     ]
    }
   ],
   "source": [
    "print(я_могу_называть_переменные_так)"
   ]
  },
  {
   "cell_type": "code",
   "execution_count": 9,
   "metadata": {},
   "outputs": [
    {
     "name": "stdout",
     "output_type": "stream",
     "text": [
      "я положил файл non.py в папку Documents\n"
     ]
    }
   ],
   "source": [
    "def загрузка_файла(файл, папка):\n",
    "    print(f'я положил файл {файл} в папку {папка}')\n",
    "    \n",
    "загрузка_файла('non.py', 'Documents')"
   ]
  },
  {
   "cell_type": "code",
   "execution_count": null,
   "metadata": {},
   "outputs": [],
   "source": []
  }
 ],
 "metadata": {
  "kernelspec": {
   "display_name": "Python 3 (ipykernel)",
   "language": "python",
   "name": "python3"
  },
  "language_info": {
   "codemirror_mode": {
    "name": "ipython",
    "version": 3
   },
   "file_extension": ".py",
   "mimetype": "text/x-python",
   "name": "python",
   "nbconvert_exporter": "python",
   "pygments_lexer": "ipython3",
   "version": "3.7.1"
  }
 },
 "nbformat": 4,
 "nbformat_minor": 1
}
