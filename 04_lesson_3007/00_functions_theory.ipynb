{
 "cells": [
  {
   "cell_type": "code",
   "execution_count": 1,
   "metadata": {},
   "outputs": [],
   "source": [
    "from turtle import *\n",
    "\n",
    "t = Turtle()\n",
    "t.color('red')\n",
    "t.width(4)\n",
    "t.speed(10)\n",
    "\n",
    "t.up()\n",
    "t.goto(10, 50)\n",
    "t.down()\n",
    "for i in range(4):\n",
    "    t.fd(100)\n",
    "    t.rt(90)\n",
    "\n",
    "\n",
    "t.up()\n",
    "t.goto(-100, 90)\n",
    "t.down()\n",
    "for i in range(4):\n",
    "    t.fd(30)\n",
    "    t.rt(90)\n",
    "\n",
    "t.up()\n",
    "t.goto(40, 120)\n",
    "t.down()\n",
    "for i in range(4):\n",
    "    t.fd(80)\n",
    "    t.rt(90)\n",
    "\n",
    "done()\n"
   ]
  },
  {
   "cell_type": "markdown",
   "metadata": {},
   "source": [
    "## То же самое, но с функциями"
   ]
  },
  {
   "cell_type": "code",
   "execution_count": 2,
   "metadata": {},
   "outputs": [
    {
     "ename": "Terminator",
     "evalue": "",
     "output_type": "error",
     "traceback": [
      "\u001B[0;31m---------------------------------------------------------------------------\u001B[0m",
      "\u001B[0;31mTerminator\u001B[0m                                Traceback (most recent call last)",
      "\u001B[0;32m/var/folders/kg/wys5qw45109bn_kq6647wwzw0000gn/T/ipykernel_4770/2065353495.py\u001B[0m in \u001B[0;36m<module>\u001B[0;34m\u001B[0m\n\u001B[1;32m      1\u001B[0m \u001B[0;32mfrom\u001B[0m \u001B[0mturtle\u001B[0m \u001B[0;32mimport\u001B[0m \u001B[0;34m*\u001B[0m\u001B[0;34m\u001B[0m\u001B[0;34m\u001B[0m\u001B[0m\n\u001B[1;32m      2\u001B[0m \u001B[0;34m\u001B[0m\u001B[0m\n\u001B[0;32m----> 3\u001B[0;31m \u001B[0mt\u001B[0m \u001B[0;34m=\u001B[0m \u001B[0mTurtle\u001B[0m\u001B[0;34m(\u001B[0m\u001B[0;34m)\u001B[0m\u001B[0;34m\u001B[0m\u001B[0;34m\u001B[0m\u001B[0m\n\u001B[0m\u001B[1;32m      4\u001B[0m \u001B[0mt\u001B[0m\u001B[0;34m.\u001B[0m\u001B[0mcolor\u001B[0m\u001B[0;34m(\u001B[0m\u001B[0;34m'red'\u001B[0m\u001B[0;34m)\u001B[0m\u001B[0;34m\u001B[0m\u001B[0;34m\u001B[0m\u001B[0m\n\u001B[1;32m      5\u001B[0m \u001B[0mt\u001B[0m\u001B[0;34m.\u001B[0m\u001B[0mwidth\u001B[0m\u001B[0;34m(\u001B[0m\u001B[0;36m4\u001B[0m\u001B[0;34m)\u001B[0m\u001B[0;34m\u001B[0m\u001B[0;34m\u001B[0m\u001B[0m\n",
      "\u001B[0;32m/Library/Frameworks/Python.framework/Versions/3.7/lib/python3.7/turtle.py\u001B[0m in \u001B[0;36m__init__\u001B[0;34m(self, shape, undobuffersize, visible)\u001B[0m\n\u001B[1;32m   3814\u001B[0m                            \u001B[0mshape\u001B[0m\u001B[0;34m=\u001B[0m\u001B[0mshape\u001B[0m\u001B[0;34m,\u001B[0m\u001B[0;34m\u001B[0m\u001B[0;34m\u001B[0m\u001B[0m\n\u001B[1;32m   3815\u001B[0m                            \u001B[0mundobuffersize\u001B[0m\u001B[0;34m=\u001B[0m\u001B[0mundobuffersize\u001B[0m\u001B[0;34m,\u001B[0m\u001B[0;34m\u001B[0m\u001B[0;34m\u001B[0m\u001B[0m\n\u001B[0;32m-> 3816\u001B[0;31m                            visible=visible)\n\u001B[0m\u001B[1;32m   3817\u001B[0m \u001B[0;34m\u001B[0m\u001B[0m\n\u001B[1;32m   3818\u001B[0m \u001B[0mPen\u001B[0m \u001B[0;34m=\u001B[0m \u001B[0mTurtle\u001B[0m\u001B[0;34m\u001B[0m\u001B[0;34m\u001B[0m\u001B[0m\n",
      "\u001B[0;32m/Library/Frameworks/Python.framework/Versions/3.7/lib/python3.7/turtle.py\u001B[0m in \u001B[0;36m__init__\u001B[0;34m(self, canvas, shape, undobuffersize, visible)\u001B[0m\n\u001B[1;32m   2555\u001B[0m         \u001B[0mself\u001B[0m\u001B[0;34m.\u001B[0m\u001B[0m_undobuffersize\u001B[0m \u001B[0;34m=\u001B[0m \u001B[0mundobuffersize\u001B[0m\u001B[0;34m\u001B[0m\u001B[0;34m\u001B[0m\u001B[0m\n\u001B[1;32m   2556\u001B[0m         \u001B[0mself\u001B[0m\u001B[0;34m.\u001B[0m\u001B[0mundobuffer\u001B[0m \u001B[0;34m=\u001B[0m \u001B[0mTbuffer\u001B[0m\u001B[0;34m(\u001B[0m\u001B[0mundobuffersize\u001B[0m\u001B[0;34m)\u001B[0m\u001B[0;34m\u001B[0m\u001B[0;34m\u001B[0m\u001B[0m\n\u001B[0;32m-> 2557\u001B[0;31m         \u001B[0mself\u001B[0m\u001B[0;34m.\u001B[0m\u001B[0m_update\u001B[0m\u001B[0;34m(\u001B[0m\u001B[0;34m)\u001B[0m\u001B[0;34m\u001B[0m\u001B[0;34m\u001B[0m\u001B[0m\n\u001B[0m\u001B[1;32m   2558\u001B[0m \u001B[0;34m\u001B[0m\u001B[0m\n\u001B[1;32m   2559\u001B[0m     \u001B[0;32mdef\u001B[0m \u001B[0mreset\u001B[0m\u001B[0;34m(\u001B[0m\u001B[0mself\u001B[0m\u001B[0;34m)\u001B[0m\u001B[0;34m:\u001B[0m\u001B[0;34m\u001B[0m\u001B[0;34m\u001B[0m\u001B[0m\n",
      "\u001B[0;32m/Library/Frameworks/Python.framework/Versions/3.7/lib/python3.7/turtle.py\u001B[0m in \u001B[0;36m_update\u001B[0;34m(self)\u001B[0m\n\u001B[1;32m   2658\u001B[0m             \u001B[0;32mreturn\u001B[0m\u001B[0;34m\u001B[0m\u001B[0;34m\u001B[0m\u001B[0m\n\u001B[1;32m   2659\u001B[0m         \u001B[0;32melif\u001B[0m \u001B[0mscreen\u001B[0m\u001B[0;34m.\u001B[0m\u001B[0m_tracing\u001B[0m \u001B[0;34m==\u001B[0m \u001B[0;36m1\u001B[0m\u001B[0;34m:\u001B[0m\u001B[0;34m\u001B[0m\u001B[0;34m\u001B[0m\u001B[0m\n\u001B[0;32m-> 2660\u001B[0;31m             \u001B[0mself\u001B[0m\u001B[0;34m.\u001B[0m\u001B[0m_update_data\u001B[0m\u001B[0;34m(\u001B[0m\u001B[0;34m)\u001B[0m\u001B[0;34m\u001B[0m\u001B[0;34m\u001B[0m\u001B[0m\n\u001B[0m\u001B[1;32m   2661\u001B[0m             \u001B[0mself\u001B[0m\u001B[0;34m.\u001B[0m\u001B[0m_drawturtle\u001B[0m\u001B[0;34m(\u001B[0m\u001B[0;34m)\u001B[0m\u001B[0;34m\u001B[0m\u001B[0;34m\u001B[0m\u001B[0m\n\u001B[1;32m   2662\u001B[0m             \u001B[0mscreen\u001B[0m\u001B[0;34m.\u001B[0m\u001B[0m_update\u001B[0m\u001B[0;34m(\u001B[0m\u001B[0;34m)\u001B[0m                  \u001B[0;31m# TurtleScreenBase\u001B[0m\u001B[0;34m\u001B[0m\u001B[0;34m\u001B[0m\u001B[0m\n",
      "\u001B[0;32m/Library/Frameworks/Python.framework/Versions/3.7/lib/python3.7/turtle.py\u001B[0m in \u001B[0;36m_update_data\u001B[0;34m(self)\u001B[0m\n\u001B[1;32m   2644\u001B[0m \u001B[0;34m\u001B[0m\u001B[0m\n\u001B[1;32m   2645\u001B[0m     \u001B[0;32mdef\u001B[0m \u001B[0m_update_data\u001B[0m\u001B[0;34m(\u001B[0m\u001B[0mself\u001B[0m\u001B[0;34m)\u001B[0m\u001B[0;34m:\u001B[0m\u001B[0;34m\u001B[0m\u001B[0;34m\u001B[0m\u001B[0m\n\u001B[0;32m-> 2646\u001B[0;31m         \u001B[0mself\u001B[0m\u001B[0;34m.\u001B[0m\u001B[0mscreen\u001B[0m\u001B[0;34m.\u001B[0m\u001B[0m_incrementudc\u001B[0m\u001B[0;34m(\u001B[0m\u001B[0;34m)\u001B[0m\u001B[0;34m\u001B[0m\u001B[0;34m\u001B[0m\u001B[0m\n\u001B[0m\u001B[1;32m   2647\u001B[0m         \u001B[0;32mif\u001B[0m \u001B[0mself\u001B[0m\u001B[0;34m.\u001B[0m\u001B[0mscreen\u001B[0m\u001B[0;34m.\u001B[0m\u001B[0m_updatecounter\u001B[0m \u001B[0;34m!=\u001B[0m \u001B[0;36m0\u001B[0m\u001B[0;34m:\u001B[0m\u001B[0;34m\u001B[0m\u001B[0;34m\u001B[0m\u001B[0m\n\u001B[1;32m   2648\u001B[0m             \u001B[0;32mreturn\u001B[0m\u001B[0;34m\u001B[0m\u001B[0;34m\u001B[0m\u001B[0m\n",
      "\u001B[0;32m/Library/Frameworks/Python.framework/Versions/3.7/lib/python3.7/turtle.py\u001B[0m in \u001B[0;36m_incrementudc\u001B[0;34m(self)\u001B[0m\n\u001B[1;32m   1290\u001B[0m         \u001B[0;32mif\u001B[0m \u001B[0;32mnot\u001B[0m \u001B[0mTurtleScreen\u001B[0m\u001B[0;34m.\u001B[0m\u001B[0m_RUNNING\u001B[0m\u001B[0;34m:\u001B[0m\u001B[0;34m\u001B[0m\u001B[0;34m\u001B[0m\u001B[0m\n\u001B[1;32m   1291\u001B[0m             \u001B[0mTurtleScreen\u001B[0m\u001B[0;34m.\u001B[0m\u001B[0m_RUNNING\u001B[0m \u001B[0;34m=\u001B[0m \u001B[0;32mTrue\u001B[0m\u001B[0;34m\u001B[0m\u001B[0;34m\u001B[0m\u001B[0m\n\u001B[0;32m-> 1292\u001B[0;31m             \u001B[0;32mraise\u001B[0m \u001B[0mTerminator\u001B[0m\u001B[0;34m\u001B[0m\u001B[0;34m\u001B[0m\u001B[0m\n\u001B[0m\u001B[1;32m   1293\u001B[0m         \u001B[0;32mif\u001B[0m \u001B[0mself\u001B[0m\u001B[0;34m.\u001B[0m\u001B[0m_tracing\u001B[0m \u001B[0;34m>\u001B[0m \u001B[0;36m0\u001B[0m\u001B[0;34m:\u001B[0m\u001B[0;34m\u001B[0m\u001B[0;34m\u001B[0m\u001B[0m\n\u001B[1;32m   1294\u001B[0m             \u001B[0mself\u001B[0m\u001B[0;34m.\u001B[0m\u001B[0m_updatecounter\u001B[0m \u001B[0;34m+=\u001B[0m \u001B[0;36m1\u001B[0m\u001B[0;34m\u001B[0m\u001B[0;34m\u001B[0m\u001B[0m\n",
      "\u001B[0;31mTerminator\u001B[0m: "
     ]
    }
   ],
   "source": [
    "from turtle import *\n",
    "\n",
    "t = Turtle()\n",
    "t.color('red')\n",
    "t.width(4)\n",
    "t.speed(10)\n",
    "\n",
    "def square(turtle, x, y, length):\n",
    "    turtle.goto(x, y)\n",
    "    turtle.down()\n",
    "    for i in range(4):\n",
    "        turtle.fd(length)\n",
    "        turtle.rt(90)\n",
    "    turtle.up()\n",
    "\n",
    "square(t, 10, 50, 100)\n",
    "square(t, -100, 90, 30)\n",
    "square(t, 40, 120, 80)\n",
    "\n",
    "\n",
    "done()\n"
   ]
  },
  {
   "cell_type": "code",
   "execution_count": 9,
   "metadata": {},
   "outputs": [],
   "source": [
    "def say_hello():\n",
    "    x = 2 ** 5\n",
    "    return 'Hello!', x"
   ]
  },
  {
   "cell_type": "code",
   "execution_count": 11,
   "metadata": {},
   "outputs": [
    {
     "name": "stdout",
     "output_type": "stream",
     "text": [
      "Hello! 32\n"
     ]
    }
   ],
   "source": [
    "\n",
    "a, b = say_hello()\n",
    "print(a, b)"
   ]
  },
  {
   "cell_type": "markdown",
   "metadata": {},
   "source": [
    "# Пространства имен"
   ]
  },
  {
   "cell_type": "markdown",
   "metadata": {},
   "source": [
    "<p>ПИ - совокупность определенных в настоящее время имен и информации об объектах, на которые эти имена ссылаются.</p>\n",
    "\n",
    "<p>при вызове функции создается новое пространство имен.</p>"
   ]
  },
  {
   "cell_type": "code",
   "execution_count": 13,
   "metadata": {},
   "outputs": [],
   "source": [
    "namespace = {\n",
    "    'x': int,\n",
    "    'a': 'function',\n",
    "    'b': 'function'\n",
    "}"
   ]
  },
  {
   "cell_type": "code",
   "execution_count": 21,
   "metadata": {},
   "outputs": [
    {
     "name": "stdout",
     "output_type": "stream",
     "text": [
      "15\n",
      "0\n"
     ]
    }
   ],
   "source": [
    "x = 0  # глобальное пространство\n",
    "def multiply():\n",
    "    x = 5  # Объемлющее\n",
    "    y = 3\n",
    "    def power():\n",
    "        a = 1  # локальное пространство\n",
    "        b = 5\n",
    "    power()\n",
    "    print(x * y)\n",
    "    \n",
    "multiply()\n",
    "print(x)"
   ]
  },
  {
   "cell_type": "markdown",
   "metadata": {},
   "source": [
    "<ul>\n",
    "    <li><code>built-in</code> - встроенное пространство</li>\n",
    "    <li><code>global</code> - глобальное</li>\n",
    "    <li><code>local</code> - локальное</li>\n",
    "    <li><code>embracing</code> - объемлющее</li>\n",
    "</ul>"
   ]
  },
  {
   "cell_type": "code",
   "execution_count": 17,
   "metadata": {},
   "outputs": [
    {
     "name": "stdout",
     "output_type": "stream",
     "text": [
      "['__add__', '__class__', '__contains__', '__delattr__', '__dir__', '__doc__', '__eq__', '__format__', '__ge__', '__getattribute__', '__getitem__', '__getnewargs__', '__gt__', '__hash__', '__init__', '__init_subclass__', '__iter__', '__le__', '__len__', '__lt__', '__mod__', '__mul__', '__ne__', '__new__', '__reduce__', '__reduce_ex__', '__repr__', '__rmod__', '__rmul__', '__setattr__', '__sizeof__', '__str__', '__subclasshook__', 'capitalize', 'casefold', 'center', 'count', 'encode', 'endswith', 'expandtabs', 'find', 'format', 'format_map', 'index', 'isalnum', 'isalpha', 'isascii', 'isdecimal', 'isdigit', 'isidentifier', 'islower', 'isnumeric', 'isprintable', 'isspace', 'istitle', 'isupper', 'join', 'ljust', 'lower', 'lstrip', 'maketrans', 'partition', 'replace', 'rfind', 'rindex', 'rjust', 'rpartition', 'rsplit', 'rstrip', 'split', 'splitlines', 'startswith', 'strip', 'swapcase', 'title', 'translate', 'upper', 'zfill']\n"
     ]
    }
   ],
   "source": [
    "print(dir('__builtins__'))"
   ]
  },
  {
   "cell_type": "code",
   "execution_count": 18,
   "metadata": {},
   "outputs": [],
   "source": [
    "import random\n",
    "# создалось глобальное пространство имен для библиотеки рандом"
   ]
  },
  {
   "cell_type": "markdown",
   "metadata": {},
   "source": [
    "# LEGB\n",
    "\n",
    "<p>Локальное пространство -> Объемлющее -> Глобальное -> Встроенное</p>\n",
    "\n",
    "<p>Если имя нигде не будет найдено, вы получите исключение <code>NameError</code></p>"
   ]
  },
  {
   "cell_type": "code",
   "execution_count": 24,
   "metadata": {},
   "outputs": [
    {
     "data": {
      "text/plain": [
       "NoneType"
      ]
     },
     "execution_count": 24,
     "metadata": {},
     "output_type": "execute_result"
    }
   ],
   "source": [
    "def spam():\n",
    "    pass  # ничего не делать\n",
    "    # return None\n",
    "\n",
    "res = spam()\n",
    "type(res)"
   ]
  },
  {
   "cell_type": "code",
   "execution_count": 26,
   "metadata": {},
   "outputs": [
    {
     "data": {
      "text/plain": [
       "False"
      ]
     },
     "execution_count": 26,
     "metadata": {},
     "output_type": "execute_result"
    }
   ],
   "source": [
    "def is_valid_password(password: str) -> bool: # аннотация возвращаемого типа данных\n",
    "    \n",
    "    valid_pass = '12345qwerty'\n",
    "    return valid_pass == password\n",
    "\n",
    "is_valid_password('rjkgr')\n",
    "    "
   ]
  },
  {
   "cell_type": "markdown",
   "metadata": {},
   "source": [
    "## Параметры функции\n"
   ]
  },
  {
   "cell_type": "code",
   "execution_count": 38,
   "metadata": {},
   "outputs": [
    {
     "data": {
      "text/plain": [
       "81"
      ]
     },
     "execution_count": 38,
     "metadata": {},
     "output_type": "execute_result"
    }
   ],
   "source": [
    "def power(x: int, deg: int) -> int: #x, deg - параметр\n",
    "    '''\n",
    "    Функция принимает значение Х в качестве параметра\n",
    "    И возвращает Х возводя его в степень 5'''\n",
    "    return x ** deg\n",
    "\n",
    "\n",
    "power(3, 4) # 2 - аргумент"
   ]
  },
  {
   "cell_type": "code",
   "execution_count": 47,
   "metadata": {},
   "outputs": [
    {
     "data": {
      "text/plain": [
       "16"
      ]
     },
     "execution_count": 47,
     "metadata": {},
     "output_type": "execute_result"
    }
   ],
   "source": [
    "power(4, 2)"
   ]
  },
  {
   "cell_type": "markdown",
   "metadata": {},
   "source": [
    "## Именованные параметры"
   ]
  },
  {
   "cell_type": "code",
   "execution_count": 42,
   "metadata": {},
   "outputs": [
    {
     "data": {
      "text/plain": [
       "81"
      ]
     },
     "execution_count": 42,
     "metadata": {},
     "output_type": "execute_result"
    }
   ],
   "source": [
    "power(deg=4, x=3)"
   ]
  },
  {
   "cell_type": "code",
   "execution_count": 45,
   "metadata": {},
   "outputs": [
    {
     "data": {
      "text/plain": [
       "range(14, 100, 2)"
      ]
     },
     "execution_count": 45,
     "metadata": {},
     "output_type": "execute_result"
    }
   ],
   "source": [
    "range(14, 100, 2)"
   ]
  },
  {
   "cell_type": "markdown",
   "metadata": {},
   "source": [
    "## Параметры по умолчанию\n"
   ]
  },
  {
   "cell_type": "code",
   "execution_count": 55,
   "metadata": {},
   "outputs": [],
   "source": [
    "def spam(x:int, y:int = 0, z:int = 0) -> int:\n",
    "    return 100 * x + 10 * y + 1 * z"
   ]
  },
  {
   "cell_type": "code",
   "execution_count": 52,
   "metadata": {},
   "outputs": [
    {
     "data": {
      "text/plain": [
       "345"
      ]
     },
     "execution_count": 52,
     "metadata": {},
     "output_type": "execute_result"
    }
   ],
   "source": [
    "spam(3, 4, 5)"
   ]
  },
  {
   "cell_type": "code",
   "execution_count": 56,
   "metadata": {},
   "outputs": [
    {
     "data": {
      "text/plain": [
       "500"
      ]
     },
     "execution_count": 56,
     "metadata": {},
     "output_type": "execute_result"
    }
   ],
   "source": [
    "spam(5)"
   ]
  },
  {
   "cell_type": "code",
   "execution_count": 57,
   "metadata": {},
   "outputs": [
    {
     "data": {
      "text/plain": [
       "304"
      ]
     },
     "execution_count": 57,
     "metadata": {},
     "output_type": "execute_result"
    }
   ],
   "source": [
    "spam(z=4, x=3)"
   ]
  },
  {
   "cell_type": "markdown",
   "metadata": {},
   "source": [
    "# Задача\n",
    "<p>Написать функцию, которая получает неопределенное количество аргументов и возвраащет их сумму.</p>"
   ]
  },
  {
   "cell_type": "code",
   "execution_count": 67,
   "metadata": {},
   "outputs": [
    {
     "data": {
      "text/plain": [
       "28"
      ]
     },
     "execution_count": 67,
     "metadata": {},
     "output_type": "execute_result"
    }
   ],
   "source": [
    "def summary(*numbers):\n",
    "    s = 0\n",
    "    for number in numbers:\n",
    "        s += number\n",
    "    return s\n",
    "\n",
    "summary(2, 4, 3, 2, 6, 3, 2, 6)"
   ]
  },
  {
   "cell_type": "code",
   "execution_count": null,
   "metadata": {},
   "outputs": [],
   "source": []
  }
 ],
 "metadata": {
  "kernelspec": {
   "display_name": "Python 3 (ipykernel)",
   "language": "python",
   "name": "python3"
  },
  "language_info": {
   "codemirror_mode": {
    "name": "ipython",
    "version": 3
   },
   "file_extension": ".py",
   "mimetype": "text/x-python",
   "name": "python",
   "nbconvert_exporter": "python",
   "pygments_lexer": "ipython3",
   "version": "3.7.1"
  }
 },
 "nbformat": 4,
 "nbformat_minor": 1
}