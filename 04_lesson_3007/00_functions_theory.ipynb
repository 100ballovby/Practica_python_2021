{
 "cells": [
  {
   "cell_type": "code",
   "execution_count": 1,
   "metadata": {
    "pycharm": {
     "is_executing": true
    }
   },
   "outputs": [],
   "source": [
    "from turtle import *\n",
    "\n",
    "t = Turtle()\n",
    "t.color('red')\n",
    "t.width(4)\n",
    "t.speed(10)\n",
    "\n",
    "t.up()\n",
    "t.goto(10, 50)\n",
    "t.down()\n",
    "for i in range(4):\n",
    "    t.fd(100)\n",
    "    t.rt(90)\n",
    "\n",
    "\n",
    "t.up()\n",
    "t.goto(-100, 90)\n",
    "t.down()\n",
    "for i in range(4):\n",
    "    t.fd(30)\n",
    "    t.rt(90)\n",
    "\n",
    "t.up()\n",
    "t.goto(40, 120)\n",
    "t.down()\n",
    "for i in range(4):\n",
    "    t.fd(80)\n",
    "    t.rt(90)\n",
    "\n",
    "done()\n"
   ]
  },
  {
   "cell_type": "markdown",
   "metadata": {},
   "source": [
    "## То же самое, но с функциями"
   ]
  },
  {
   "cell_type": "code",
   "execution_count": 3,
   "metadata": {},
   "outputs": [],
   "source": [
    "from turtle import *\n",
    "\n",
    "t = Turtle()\n",
    "t.color('red')\n",
    "t.width(4)\n",
    "t.speed(10)\n",
    "\n",
    "def square(turtle, x, y, length):\n",
    "    turtle.goto(x, y)\n",
    "    turtle.down()\n",
    "    for i in range(4):\n",
    "        turtle.fd(length)\n",
    "        turtle.rt(90)\n",
    "    turtle.up()\n",
    "\n",
    "square(t, 10, 50, 100)\n",
    "square(t, -100, 90, 30)\n",
    "square(t, 40, 120, 80)\n",
    "\n",
    "\n",
    "done()\n"
   ]
  },
  {
   "cell_type": "code",
   "execution_count": null,
   "metadata": {},
   "outputs": [],
   "source": []
  }
 ],
 "metadata": {
  "kernelspec": {
   "display_name": "Python 3 (ipykernel)",
   "language": "python",
   "name": "python3"
  },
  "language_info": {
   "codemirror_mode": {
    "name": "ipython",
    "version": 3
   },
   "file_extension": ".py",
   "mimetype": "text/x-python",
   "name": "python",
   "nbconvert_exporter": "python",
   "pygments_lexer": "ipython3",
   "version": "3.7.1"
  }
 },
 "nbformat": 4,
 "nbformat_minor": 1
}
