{
 "cells": [
  {
   "cell_type": "markdown",
   "metadata": {
    "collapsed": true
   },
   "source": [
    "## Словари и множества"
   ]
  },
  {
   "cell_type": "code",
   "execution_count": 1,
   "metadata": {},
   "outputs": [],
   "source": [
    "fridge = {\n",
    "    'apple': 2.5,\n",
    "    'banana': 1,\n",
    "    'avocado': 3,\n",
    "    'ham': 2.5\n",
    "}"
   ]
  },
  {
   "cell_type": "markdown",
   "metadata": {},
   "source": [
    "<p>Словари - НЕУПОРЯДОЧЕННЫЕ наборы пар ключ-значение.</p>"
   ]
  },
  {
   "cell_type": "code",
   "execution_count": 3,
   "metadata": {},
   "outputs": [
    {
     "ename": "KeyError",
     "evalue": "0",
     "output_type": "error",
     "traceback": [
      "\u001B[0;31m---------------------------------------------------------------------------\u001B[0m",
      "\u001B[0;31mKeyError\u001B[0m                                  Traceback (most recent call last)",
      "\u001B[0;32m/var/folders/kg/wys5qw45109bn_kq6647wwzw0000gn/T/ipykernel_2008/4232823510.py\u001B[0m in \u001B[0;36m<module>\u001B[0;34m\u001B[0m\n\u001B[0;32m----> 1\u001B[0;31m \u001B[0mfridge\u001B[0m\u001B[0;34m[\u001B[0m\u001B[0;36m0\u001B[0m\u001B[0;34m]\u001B[0m\u001B[0;34m\u001B[0m\u001B[0;34m\u001B[0m\u001B[0m\n\u001B[0m",
      "\u001B[0;31mKeyError\u001B[0m: 0"
     ]
    }
   ],
   "source": [
    "fridge[0]"
   ]
  },
  {
   "cell_type": "code",
   "execution_count": 5,
   "metadata": {},
   "outputs": [
    {
     "data": {
      "text/plain": [
       "1"
      ]
     },
     "execution_count": 5,
     "metadata": {},
     "output_type": "execute_result"
    }
   ],
   "source": [
    "fridge['banana']"
   ]
  },
  {
   "cell_type": "code",
   "execution_count": 11,
   "metadata": {},
   "outputs": [
    {
     "name": "stdout",
     "output_type": "stream",
     "text": [
      "{'apple': 2.5, 'banana': 1, 'avocado': 3, 'ham': 2.5} \n",
      "\n",
      "\n",
      "apple\n",
      "banana\n",
      "avocado\n",
      "ham\n",
      "\n",
      "\n",
      "2.5\n",
      "1\n",
      "3\n",
      "2.5\n",
      "\n",
      "\n",
      "apple: 2.5\n",
      "banana: 1\n",
      "avocado: 3\n",
      "ham: 2.5\n"
     ]
    }
   ],
   "source": [
    "print(fridge, '\\n\\n')\n",
    "\n",
    "for key in fridge.keys():\n",
    "    print(key)\n",
    "    \n",
    "print('\\n')\n",
    "    \n",
    "for value in fridge.values():\n",
    "    print(value)\n",
    "    \n",
    "print('\\n')\n",
    "    \n",
    "for key, value in fridge.items():\n",
    "    print(f'{key}: {value}')"
   ]
  },
  {
   "cell_type": "code",
   "execution_count": 14,
   "metadata": {},
   "outputs": [
    {
     "data": {
      "text/plain": [
       "'+375 29 123 45 67'"
      ]
     },
     "execution_count": 14,
     "metadata": {},
     "output_type": "execute_result"
    }
   ],
   "source": [
    "contacts = {\n",
    "    'mom': {\n",
    "        'phone': ['+375 29 123 45 67', '+375 33 123 45 67'],\n",
    "        'email': 'jhwrkjf@gmail.com',\n",
    "        'birthday': '01/01/2001'\n",
    "    },\n",
    "    'dad': {\n",
    "        'phone': '+375 29 123 45 67',\n",
    "        'email': 'jhwrkjf@gmail.com',\n",
    "        'birthday': '01/01/2001'\n",
    "    }\n",
    "}\n",
    "\n",
    "contacts['mom']['phone'][0]"
   ]
  },
  {
   "cell_type": "code",
   "execution_count": null,
   "metadata": {},
   "outputs": [],
   "source": []
  }
 ],
 "metadata": {
  "kernelspec": {
   "display_name": "Python 3 (ipykernel)",
   "language": "python",
   "name": "python3"
  },
  "language_info": {
   "codemirror_mode": {
    "name": "ipython",
    "version": 3
   },
   "file_extension": ".py",
   "mimetype": "text/x-python",
   "name": "python",
   "nbconvert_exporter": "python",
   "pygments_lexer": "ipython3",
   "version": "3.7.1"
  }
 },
 "nbformat": 4,
 "nbformat_minor": 1
}