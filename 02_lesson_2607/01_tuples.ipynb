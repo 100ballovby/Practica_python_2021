{
 "cells": [
  {
   "cell_type": "markdown",
   "metadata": {
    "collapsed": true
   },
   "source": [
    "## Кортежи <class 'tuple'>"
   ]
  },
  {
   "cell_type": "code",
   "execution_count": 2,
   "metadata": {},
   "outputs": [
    {
     "name": "stdout",
     "output_type": "stream",
     "text": [
      "<class 'tuple'>\n"
     ]
    }
   ],
   "source": [
    "t = (1, 2, 3)\n",
    "print(type(t))"
   ]
  },
  {
   "cell_type": "code",
   "execution_count": 28,
   "metadata": {},
   "outputs": [
    {
     "ename": "TypeError",
     "evalue": "'tuple' object does not support item assignment",
     "output_type": "error",
     "traceback": [
      "\u001B[0;31m---------------------------------------------------------------------------\u001B[0m",
      "\u001B[0;31mTypeError\u001B[0m                                 Traceback (most recent call last)",
      "\u001B[0;32m/var/folders/kg/wys5qw45109bn_kq6647wwzw0000gn/T/ipykernel_2001/2019656819.py\u001B[0m in \u001B[0;36m<module>\u001B[0;34m\u001B[0m\n\u001B[1;32m      1\u001B[0m \u001B[0mcurrencies\u001B[0m \u001B[0;34m=\u001B[0m \u001B[0;34m(\u001B[0m\u001B[0;34m'USD'\u001B[0m\u001B[0;34m,\u001B[0m \u001B[0;34m'EUR'\u001B[0m\u001B[0;34m,\u001B[0m \u001B[0;34m\"BYN\"\u001B[0m\u001B[0;34m,\u001B[0m \u001B[0;34m'RUB'\u001B[0m\u001B[0;34m,\u001B[0m \u001B[0;34m'TBD'\u001B[0m\u001B[0;34m,\u001B[0m \u001B[0;34m'GBP'\u001B[0m\u001B[0;34m)\u001B[0m\u001B[0;34m\u001B[0m\u001B[0;34m\u001B[0m\u001B[0m\n\u001B[0;32m----> 2\u001B[0;31m \u001B[0mcurrencies\u001B[0m\u001B[0;34m[\u001B[0m\u001B[0;36m0\u001B[0m\u001B[0;34m]\u001B[0m \u001B[0;34m=\u001B[0m \u001B[0;34m'GBP'\u001B[0m\u001B[0;34m\u001B[0m\u001B[0;34m\u001B[0m\u001B[0m\n\u001B[0m",
      "\u001B[0;31mTypeError\u001B[0m: 'tuple' object does not support item assignment"
     ]
    }
   ],
   "source": [
    "currencies = ('USD', 'EUR', \"BYN\", 'RUB', 'TBD', 'GBP')\n",
    "currencies[0] = 'GBP'"
   ]
  },
  {
   "cell_type": "markdown",
   "metadata": {},
   "source": [
    "### Распаковочки"
   ]
  },
  {
   "cell_type": "code",
   "execution_count": 17,
   "metadata": {},
   "outputs": [
    {
     "name": "stdout",
     "output_type": "stream",
     "text": [
      "USD EUR\n"
     ]
    }
   ],
   "source": [
    "a, b, c, d, e = currencies  # в переменные записались элементы кортежа. Следите за количеством\n",
    "print(a, b)"
   ]
  },
  {
   "cell_type": "code",
   "execution_count": 21,
   "metadata": {},
   "outputs": [
    {
     "name": "stdout",
     "output_type": "stream",
     "text": [
      "USD EUR\n",
      "['BYN', 'RUB', 'TBD']\n"
     ]
    }
   ],
   "source": [
    "a, b, *rest = currencies\n",
    "print(a, b)\n",
    "print(rest) # tuple"
   ]
  },
  {
   "cell_type": "markdown",
   "metadata": {},
   "source": [
    "<code>*</code> - это распаковщик объекта"
   ]
  },
  {
   "cell_type": "code",
   "execution_count": 29,
   "metadata": {},
   "outputs": [
    {
     "name": "stdout",
     "output_type": "stream",
     "text": [
      "USD🍕 EUR🍕 BYN🍕 RUB🍕 TBD🍕 GBP!\n"
     ]
    }
   ],
   "source": [
    "print(*currencies, sep='🍕 ', end='!\\n')"
   ]
  },
  {
   "cell_type": "code",
   "execution_count": 26,
   "metadata": {},
   "outputs": [
    {
     "name": "stdout",
     "output_type": "stream",
     "text": [
      "Ghbdtn\n",
      "Andrey\n"
     ]
    }
   ],
   "source": [
    "print('Ghbdtn')  # \\n - символ создания новой строки\n",
    "print('Andrey')"
   ]
  },
  {
   "cell_type": "markdown",
   "metadata": {},
   "source": [
    "## приколы с print\n",
    "\n",
    "<p><code>sep=''</code> - разделитель значений, которые выводит принт</p>\n",
    "<p><code>end=''</code> - то, чем заканчивается выводимая строка</p>"
   ]
  },
  {
   "cell_type": "markdown",
   "metadata": {},
   "source": [
    "## обращение\n",
    "\n",
    "<p>К элементам кортежа можно обращаться отдельно. Для этого используется система индексов - порядковых номеров. WE START WITH 0</p>"
   ]
  },
  {
   "cell_type": "code",
   "execution_count": 30,
   "metadata": {},
   "outputs": [
    {
     "data": {
      "text/plain": [
       "'USD'"
      ]
     },
     "execution_count": 30,
     "metadata": {},
     "output_type": "execute_result"
    }
   ],
   "source": [
    "currencies[0]"
   ]
  },
  {
   "cell_type": "markdown",
   "metadata": {},
   "source": [
    "## кортежи - это итерируемые объекты\n",
    "\n",
    "<p>То есть вы можете поставить кортеж в цикл и формировать за его счет итерации.</p>"
   ]
  },
  {
   "cell_type": "code",
   "execution_count": 35,
   "metadata": {},
   "outputs": [
    {
     "name": "stdout",
     "output_type": "stream",
     "text": [
      "⭐️ USD ⭐️\n",
      "⭐️ EUR ⭐️\n",
      "⭐️ BYN ⭐️\n",
      "⭐️ RUB ⭐️\n",
      "⭐️ TBD ⭐️\n",
      "⭐️ GBP ⭐️\n"
     ]
    }
   ],
   "source": [
    "for currency in currencies:\n",
    "    print('⭐️', currency, end=' ⭐️\\n')"
   ]
  },
  {
   "cell_type": "code",
   "execution_count": null,
   "metadata": {},
   "outputs": [],
   "source": []
  }
 ],
 "metadata": {
  "kernelspec": {
   "display_name": "Python 3 (ipykernel)",
   "language": "python",
   "name": "python3"
  },
  "language_info": {
   "codemirror_mode": {
    "name": "ipython",
    "version": 3
   },
   "file_extension": ".py",
   "mimetype": "text/x-python",
   "name": "python",
   "nbconvert_exporter": "python",
   "pygments_lexer": "ipython3",
   "version": "3.7.1"
  }
 },
 "nbformat": 4,
 "nbformat_minor": 1
}