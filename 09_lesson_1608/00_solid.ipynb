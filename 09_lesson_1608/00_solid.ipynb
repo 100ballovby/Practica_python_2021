{
 "cells": [
  {
   "cell_type": "markdown",
   "metadata": {
    "collapsed": true
   },
   "source": [
    "# S.O.L.I.D принципы с примерами на Python\n",
    "\n",
    "<details>\n",
    "<summary>Примечания</summary>\n",
    "\n",
    "* Под клиентами подразумеваются программные сущности, использующие другие программные сущности.\n",
    "\n",
    "* Этот файл является переводом статьи с сайта medium.com пользователя DeeKey, ссылка в завершении файла.\n",
    "</details>\n",
    "\n",
    "\n",
    "SOLID — это мнемоническая аббревиатура для набора принципов проектирования, созданных для разработки программного обеспечения при помощи объектно-ориентированных языков. Принципы **SOLID** направленны на содействие разработки более простого, надежного и обновляемого кода. Каждая буква в аббревиатуре **SOLID** соответствует одному принципу разработки.\n",
    "\n",
    "При правильной реализации это делает ваш код более **расширяемым, логичным и легким для чтения**.\n",
    "\n",
    "\n",
    "\n",
    "Для понимания **SOLID** принципов, вы должны хорошо понимать как, используются интерфейсы.\n",
    "\n",
    "Я попытаюсь объяснить принципы **SOLID** на примере Python в как можно более простой форме, чтобы даже новички смогли разобраться. Чтобы было очень легко взять представленные примеры и применить их на Python.\n",
    "\n",
    "\n",
    "\n",
    "Рассмотрим каждый принцип один за другим:\n",
    "\n",
    "## 1. Single Responsibility Principle<br>  (Принцип единственной обязанности)\n",
    "\n",
    "Принцип единственной обязанности требует того, чтобы **один класс выполнял только одну работу**. Таким образом, если у класса есть более одной работы, он становится зависимым. Изменение поведения одной работы класса приводит к изменению в другой."
   ]
  },
  {
   "cell_type": "code",
   "execution_count": 2,
   "metadata": {},
   "outputs": [],
   "source": [
    "class  User:\n",
    "    def __init__(self, name: str):\n",
    "        self.name = name\n",
    "    \n",
    "    def get_name(self) -> str:\n",
    "        pass\n",
    "\n",
    "    def save(self, user):\n",
    "        pass\n"
   ]
  },
  {
   "cell_type": "markdown",
   "metadata": {},
   "source": [
    "Мы имеем класс User, который ответственен за две работы — свойства пользователя и управление базой данных. Если в приложении будет изменен функционал управления базой данных для пользователя, тогда классы использующие свойства класса User тоже придется доработать и перекомпилировать, чтобы компенсировать новые изменения. Это как домино эффект, уроните одну кость, и она уронит все за ней следом.\n",
    "\n",
    "Мы же просто разделим класс. Мы создадим ещё один класс, который возьмет на себя одну ответственность — управление базой данных пользователя.\n"
   ]
  },
  {
   "cell_type": "code",
   "execution_count": 3,
   "metadata": {},
   "outputs": [],
   "source": [
    "class User:\n",
    "    def __init__(self, name: str):\n",
    "            self.name = name\n",
    "    \n",
    "    def get_name(self):\n",
    "        pass\n",
    "\n",
    "\n",
    "class UserDB:\n",
    "    def get_user(self, id) -> User:\n",
    "        pass\n",
    "\n",
    "    def save(self, user: User):\n",
    "        pass"
   ]
  },
  {
   "cell_type": "markdown",
   "metadata": {},
   "source": [
    "аспространённым решением этой проблемы является применение шаблона проектирования Фасад. Ознакомиться с паттерном Фасад вы можете [здесь](https://medium.com/@andreaspoyias/design-patterns-a-quick-guide-to-facade-pattern-16e3d2f1bfb6). User класс был бы фасадом для управления базой данных пользователя и управления свойствами пользователя.\n",
    "\n",
    "\n",
    "\n",
    "## 2. Open-Closed Principle <br> (Принцип открытости/закрытости)\n",
    "\n",
    "Программные сущности (**классы, модули, функции**) должно быть **открыты для расширения, но не модификации**.\n",
    "\n",
    "Давайте представим, что у вас есть магазин, и вы даете скидку в 20% для ваших любимых покупателей используя класс Discount. Если бы вы решаете удвоить 20-ти процентную скидку для VIP клиентов, вы могли бы изменить класс следующим образом:\n"
   ]
  },
  {
   "cell_type": "code",
   "execution_count": 4,
   "metadata": {},
   "outputs": [],
   "source": [
    "class Discount:\n",
    "  def __init__(self, customer, price):\n",
    "      self.customer = customer\n",
    "      self.price = price\n",
    "  def give_discount(self):\n",
    "      if self.customer == 'fav':\n",
    "          return self.price * 0.2\n",
    "      if self.customer == 'vip':\n",
    "          return self.price * 0.4"
   ]
  },
  {
   "cell_type": "markdown",
   "metadata": {},
   "source": [
    "Но нет, это нарушает **OCP**. Например, если мы хотим дать новую скидку для другого типа покупателей, то это требует добавления новой логики. Чтобы следовать OCP, мы добавим новый класс, который будет расширять Discount. И в этом новом классе реализуем требуемую логику:\n"
   ]
  },
  {
   "cell_type": "code",
   "execution_count": 5,
   "metadata": {},
   "outputs": [],
   "source": [
    "class Discount:\n",
    "    def __init__(self, customer, price):\n",
    "      self.customer = customer\n",
    "      self.price = price\n",
    "    def get_discount(self):\n",
    "      return self.price * 0.2\n",
    "\n",
    "class VIPDiscount(Discount):\n",
    "    def get_discount(self):\n",
    "      return super().get_discount() * 2"
   ]
  },
  {
   "cell_type": "markdown",
   "metadata": {},
   "source": [
    "Если вы решите дать скидку супер VIP пользователям, то это будет выглядеть так:"
   ]
  },
  {
   "cell_type": "code",
   "execution_count": 6,
   "metadata": {},
   "outputs": [],
   "source": [
    "class SuperVIPDiscount(VIPDiscount):\n",
    "    def get_discount(self):\n",
    "      return super().get_discount() * 2"
   ]
  },
  {
   "cell_type": "markdown",
   "metadata": {},
   "source": [
    "Расширяйте, но не модифицируйте.\n",
    "\n",
    "## 3. Liskov Substitution Principle<br> (Принцип подстановки Лисков)\n",
    "\n",
    "Главная идея, стоящая за Liskov Substitution Principle в том, что **для любого класса клиент должен иметь возможность использовать любой подкласс базового класса, не замечая разницы между ними**, и следовательно, без каких-либо изменений поведения программы при выполнении. Это означает, что клиент полностью изолирован и не подозревает об изменениях в иерархии классов.\n",
    "\n",
    "*Более формально:\n",
    "Пусть **q(x)** является свойством, верным относительно объектов **x** некоторого типа **T**. Тогда **q(y)** также должно быть верным для объектов **y** типа **S**, где **S** является подтипом типа **T**.*\n",
    "\n",
    "Проще говоря, это значит, что подкласс, дочерний класс должны соответствовать их родительскому классу или супер классу."
   ]
  },
  {
   "cell_type": "code",
   "execution_count": 7,
   "metadata": {},
   "outputs": [
    {
     "ename": "NameError",
     "evalue": "name 'create_pieces' is not defined",
     "output_type": "error",
     "traceback": [
      "\u001B[0;31m---------------------------------------------------------------------------\u001B[0m",
      "\u001B[0;31mNameError\u001B[0m                                 Traceback (most recent call last)",
      "\u001B[0;32m/var/folders/00/493v5z9n7651yzgqw69fqg7c0000gn/T/ipykernel_4079/3034511805.py\u001B[0m in \u001B[0;36m<module>\u001B[0;34m\u001B[0m\n\u001B[1;32m      9\u001B[0m \u001B[0;34m\u001B[0m\u001B[0m\n\u001B[1;32m     10\u001B[0m \u001B[0mboard\u001B[0m \u001B[0;34m=\u001B[0m \u001B[0mChessBoard\u001B[0m\u001B[0;34m(\u001B[0m\u001B[0;34m)\u001B[0m\u001B[0;34m\u001B[0m\u001B[0;34m\u001B[0m\u001B[0m\n\u001B[0;32m---> 11\u001B[0;31m \u001B[0muser_white\u001B[0m \u001B[0;34m=\u001B[0m \u001B[0mUser\u001B[0m\u001B[0;34m(\u001B[0m\u001B[0;34m\"white\"\u001B[0m\u001B[0;34m,\u001B[0m \u001B[0mboard\u001B[0m\u001B[0;34m)\u001B[0m\u001B[0;34m\u001B[0m\u001B[0;34m\u001B[0m\u001B[0m\n\u001B[0m\u001B[1;32m     12\u001B[0m \u001B[0muser_black\u001B[0m \u001B[0;34m=\u001B[0m \u001B[0mUser\u001B[0m\u001B[0;34m(\u001B[0m\u001B[0;34m\"black\"\u001B[0m\u001B[0;34m,\u001B[0m \u001B[0mboard\u001B[0m\u001B[0;34m)\u001B[0m\u001B[0;34m\u001B[0m\u001B[0;34m\u001B[0m\u001B[0m\n\u001B[1;32m     13\u001B[0m \u001B[0mpieces\u001B[0m \u001B[0;34m=\u001B[0m \u001B[0muser_white\u001B[0m\u001B[0;34m.\u001B[0m\u001B[0mpieces\u001B[0m\u001B[0;34m\u001B[0m\u001B[0;34m\u001B[0m\u001B[0m\n",
      "\u001B[0;32m/var/folders/00/493v5z9n7651yzgqw69fqg7c0000gn/T/ipykernel_4079/3034511805.py\u001B[0m in \u001B[0;36m__init__\u001B[0;34m(self, color, board)\u001B[0m\n\u001B[1;32m      1\u001B[0m \u001B[0;32mclass\u001B[0m \u001B[0mUser\u001B[0m\u001B[0;34m:\u001B[0m\u001B[0;34m\u001B[0m\u001B[0;34m\u001B[0m\u001B[0m\n\u001B[1;32m      2\u001B[0m     \u001B[0;32mdef\u001B[0m \u001B[0m__init__\u001B[0m\u001B[0;34m(\u001B[0m\u001B[0mself\u001B[0m\u001B[0;34m,\u001B[0m \u001B[0mcolor\u001B[0m\u001B[0;34m,\u001B[0m \u001B[0mboard\u001B[0m\u001B[0;34m)\u001B[0m\u001B[0;34m:\u001B[0m\u001B[0;34m\u001B[0m\u001B[0;34m\u001B[0m\u001B[0m\n\u001B[0;32m----> 3\u001B[0;31m         \u001B[0mcreate_pieces\u001B[0m\u001B[0;34m(\u001B[0m\u001B[0;34m)\u001B[0m\u001B[0;34m\u001B[0m\u001B[0;34m\u001B[0m\u001B[0m\n\u001B[0m\u001B[1;32m      4\u001B[0m         \u001B[0mself\u001B[0m\u001B[0;34m.\u001B[0m\u001B[0mcolor\u001B[0m \u001B[0;34m=\u001B[0m \u001B[0mcolor\u001B[0m\u001B[0;34m\u001B[0m\u001B[0;34m\u001B[0m\u001B[0m\n\u001B[1;32m      5\u001B[0m         \u001B[0mself\u001B[0m\u001B[0;34m.\u001B[0m\u001B[0mboard\u001B[0m \u001B[0;34m=\u001B[0m \u001B[0mboard\u001B[0m\u001B[0;34m\u001B[0m\u001B[0;34m\u001B[0m\u001B[0m\n",
      "\u001B[0;31mNameError\u001B[0m: name 'create_pieces' is not defined"
     ]
    }
   ],
   "source": [
    "class User:\n",
    "    def __init__(self, color, board):\n",
    "        create_pieces()\n",
    "        self.color = color\n",
    "        self.board = board\n",
    "    def move(self, piece, position:int):\n",
    "        piece.move(position)\n",
    "        chessmate_check()\n",
    "    \n",
    "board = ChessBoard()\n",
    "user_white = User(\"white\", board)\n",
    "user_black = User(\"black\", board)\n",
    "pieces = user_white.pieces\n",
    "horse = helper.getHorse(user_white, 1)\n",
    "user.move(horse)"
   ]
  },
  {
   "cell_type": "markdown",
   "metadata": {},
   "source": [
    "LSP это основа хорошего объектно-ориентированного проектирования программного обеспечения, потому что он следует одному из базовых принципов ООП — полиморфизму. Речь о том, чтобы создавать правильные иерархии, такие, что классы, производные от базового являлись полиморфными для их родителя по отношению к методам их интерфейсов. Ещё интересно отметить, как этот принцип относится к примеру предыдущего принципа. Если мы пытаемся расширить класс новым несовместимым классом, то все сломается. Взаимодействие с клиентом будет нарушено, и как результат, такое расширение будет невозможно (или, для того чтобы сделать это возможным, нам пришлось бы нарушить другой принцип и модифицировать код клиента, который должен быть закрыт для модификации, такое крайне нежелательно и неприемлемо).\n",
    "\n",
    "Тщательное обдумывание новых классов в соответствии с LSP помогает нам расширять иерархию классов правильно. Также, LSP способствует OCP.\n",
    "\n",
    "\n",
    "\n",
    "# 4. Interface Segregation Principle<br> (Принцип разделения интерфейсов)\n",
    "\n",
    "Создавайте тонкие интерфейсы, которые ориентированы на клиента. **Клиенты не должны зависеть от интерфейсов, которые они не используют**. Этот принцип устраняет недостатки реализации больших интерфейсов.\n",
    "\n",
    "Чтобы полностью проиллюстрировать это, мы возьмем классический пример, потому что он очень показательный и легок для понимания. Классический пример:\n"
   ]
  },
  {
   "cell_type": "code",
   "execution_count": 7,
   "metadata": {},
   "outputs": [],
   "source": [
    "class IShape:\n",
    "    def draw(self):\n",
    "        raise NotImplementedError\n",
    "\n",
    "class Circle(IShape):\n",
    "    def draw(self):\n",
    "        pass\n",
    "\n",
    "class Square(IShape):\n",
    "    def draw(self):\n",
    "        pass\n",
    "\n",
    "class Rectangle(IShape):\n",
    "    def draw(self):\n",
    "        pass"
   ]
  },
  {
   "cell_type": "markdown",
   "metadata": {},
   "source": [
    "Еще один приятный трюк заключается в том, что в нашей бизнес-логике отдельный класс может реализовать несколько интерфейсов, если необходимо. Таким образом, мы может предоставить единую реализацию для всех общих методов между интерфейсами. Сегрегированные интерфейсы заставляют нас больше думать о нашем коде с точки зрения клиента, что приведет нас к меньшей зависимости и более легкому тестированию. Таким образом, мы не только сделали наш код лучше для клиента, но также это облегчило нам понимание, тестирование и реализацию кода для нас самих.\n",
    "\n",
    "\n",
    "\n",
    "## 5. Dependecy Inversion Principle<br>  (Принцип инверсии зависимостей)\n",
    "\n",
    "**Зависимость должна быть от абстракций, а не от конкретики**. Модули верхних уровней не должны зависеть от модулей нижних уровней. Классы и верхних, и нижних уровней должны зависеть от одних и тех же абстракций. Абстракции не должны зависеть от деталей. Детали должны зависеть от абстракций.\n",
    "\n",
    "Наступает момент в разработке, когда наше приложение в основном состоит из модулей. Когда такое происходит, нам необходимо улучшать код используя внедрение зависимостей. Функционирование компонентов высокого уровня зависит от компонентов низкого уровня. Для создания определенного поведения вы можете использовать наследование или интерфейсы.\n"
   ]
  },
  {
   "cell_type": "code",
   "execution_count": 14,
   "metadata": {},
   "outputs": [],
   "source": [
    "class Connector:\n",
    "    pass\n",
    "\n",
    "\n",
    "class AuthenticationForUser:\n",
    "    def __init__(self, connector: Connector):\n",
    "        self.connection = connector.connect()\n",
    "\n",
    "    def authenticate(self, credentials):\n",
    "        pass\n",
    "\n",
    "    def is_authenticated(self):\n",
    "        pass\n",
    "\n",
    "    def last_login(self):\n",
    "        pass\n",
    "\n",
    "\n",
    "class AnonymousAuth(AuthenticationForUser):\n",
    "    pass\n",
    "\n",
    "\n",
    "class GithubAuth(AuthenticationForUser):\n",
    "    def last_login(self):\n",
    "        pass\n",
    "\n",
    "\n",
    "class FacebookAuth(AuthenticationForUser):\n",
    "    pass\n",
    "\n",
    "\n",
    "class Permissions:\n",
    "    def __init__(self, auth: AuthenticationForUser):\n",
    "        self.auth = auth\n",
    "\n",
    "    def has_permissions(self):\n",
    "        pass\n",
    "\n",
    "\n",
    "class IsLoggedInPermissions(Permissions):\n",
    "    def last_login(self, auth):\n",
    "        return auth.last_log"
   ]
  },
  {
   "cell_type": "markdown",
   "metadata": {},
   "source": [
    "Больше можно прочитать:\n",
    "\n",
    "* [Solid Python](https://www.researchgate.net/publication/323935872_SOLID_Python_SOLID_principles_applied_to_a_dynamic_programming_language)\n",
    "* [Clean Code](https://www.amazon.com/Clean-Code-Python-Refactor-legacy/dp/1788835832)\n",
    "\n",
    "\n",
    "\n",
    "### Источники:\n",
    "\n",
    "1. [S.O.L.I.D Principles explained in Python with examples](https://levelup.gitconnected.com/s-o-l-i-d-principles-explained-in-python-with-examples-83b2b43bdcde)\n",
    "2. [Принципы SOLID](https://metanit.com/sharp/patterns/5.1.php)\n",
    "3. [Принцип подстановки Барбары Лисков](https://ru.wikipedia.org/wiki/%D0%9F%D1%80%D0%B8%D0%BD%D1%86%D0%B8%D0%BF_%D0%BF%D0%BE%D0%B4%D1%81%D1%82%D0%B0%D0%BD%D0%BE%D0%B2%D0%BA%D0%B8_%D0%91%D0%B0%D1%80%D0%B1%D0%B0%D1%80%D1%8B_%D0%9B%D0%B8%D1%81%D0%BA%D0%BE%D0%B2)\n",
    "4. [Принцип разделения интерфейса](https://ru.wikipedia.org/wiki/%D0%9F%D1%80%D0%B8%D0%BD%D1%86%D0%B8%D0%BF_%D1%80%D0%B0%D0%B7%D0%B4%D0%B5%D0%BB%D0%B5%D0%BD%D0%B8%D1%8F_%D0%B8%D0%BD%D1%82%D0%B5%D1%80%D1%84%D0%B5%D0%B9%D1%81%D0%B0)\n",
    "5. [Принцип инверсии зависимостей](https://ru.wikipedia.org/wiki/%D0%9F%D1%80%D0%B8%D0%BD%D1%86%D0%B8%D0%BF_%D0%B8%D0%BD%D0%B2%D0%B5%D1%80%D1%81%D0%B8%D0%B8_%D0%B7%D0%B0%D0%B2%D0%B8%D1%81%D0%B8%D0%BC%D0%BE%D1%81%D1%82%D0%B5%D0%B9)\n"
   ]
  }
 ],
 "metadata": {
  "kernelspec": {
   "display_name": "Python 3 (ipykernel)",
   "language": "python",
   "name": "python3"
  },
  "language_info": {
   "codemirror_mode": {
    "name": "ipython",
    "version": 3
   },
   "file_extension": ".py",
   "mimetype": "text/x-python",
   "name": "python",
   "nbconvert_exporter": "python",
   "pygments_lexer": "ipython3",
   "version": "3.7.7"
  }
 },
 "nbformat": 4,
 "nbformat_minor": 1
}