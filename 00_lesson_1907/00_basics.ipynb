{
 "cells": [
  {
   "cell_type": "markdown",
   "metadata": {
    "collapsed": true
   },
   "source": [
    "<h1>Основы</h1>\n",
    "\n",
    "<p>Начали</p>"
   ]
  },
  {
   "cell_type": "markdown",
   "metadata": {},
   "source": [
    "## Компиляция и интерпретация\n",
    "\n",
    "Исполнение кода\n",
    "\n",
    "<ol>\n",
    "    <li>Компиляция - Код исполняется нативно на целевой машине - вы переводите код на понятный для компьютера язык, а затем он исполняется;</li>\n",
    "    <li>Интерпретация - Код построчно переводится в машинный по мере исполнения программы.</li>\n",
    "</ol>\n",
    "\n",
    "\n",
    "### Компилируемые языки\n",
    "<p>C, C++, Java, Swift, Scala, Python</p>\n",
    "\n",
    "### Интерпретируемые языки\n",
    "<p>Ruby, Python, Basic, C, Java</p>"
   ]
  },
  {
   "cell_type": "markdown",
   "metadata": {},
   "source": [
    "# Типы данных\n",
    "\n",
    "<p><b>Тип данных</b> - класс данных, характеризуемый членами класса и операциями, которые вы можете над ними совершать.</p>\n",
    "\n",
    "<ol>\n",
    "    <li>None - неопределенное значение переменной</li>\n",
    "    <li>bool - логические значения</li>\n",
    "    <li>Числа\n",
    "    <ol>\n",
    "        <li>int - целые числа</li>\n",
    "        <li>float - floating point number - десятичная дробь</li>\n",
    "        <li>complex - комплексные числа</li>\n",
    "    </ol>\n",
    "    </li>\n",
    "    <li>str - строка</li>\n",
    "</ol>\n",
    "\n",
    "# Числа"
   ]
  },
  {
   "cell_type": "code",
   "execution_count": 6,
   "metadata": {},
   "outputs": [
    {
     "name": "stdout",
     "output_type": "stream",
     "text": [
      "11\n",
      "5\n",
      "10\n",
      "3.3333333333333335\n"
     ]
    }
   ],
   "source": [
    "print(3 + 8)\n",
    "print(13 - 8)\n",
    "print(5 * 2)\n",
    "print(10 / 3)"
   ]
  },
  {
   "cell_type": "code",
   "execution_count": 4,
   "metadata": {},
   "outputs": [
    {
     "name": "stdout",
     "output_type": "stream",
     "text": [
      "8\n",
      "8\n"
     ]
    }
   ],
   "source": [
    "print(2 ** 3)  # возвести 2 в степень 3\n",
    "print(pow(2, 3))"
   ]
  },
  {
   "cell_type": "code",
   "execution_count": 8,
   "metadata": {},
   "outputs": [
    {
     "name": "stdout",
     "output_type": "stream",
     "text": [
      "3\n"
     ]
    }
   ],
   "source": [
    "print(10 // 3)  # разделить нацело (без дробной части и округления)"
   ]
  },
  {
   "cell_type": "code",
   "execution_count": 9,
   "metadata": {},
   "outputs": [
    {
     "name": "stdout",
     "output_type": "stream",
     "text": [
      "1\n"
     ]
    }
   ],
   "source": [
    "print(10 % 3)  # возврат остатка от деления"
   ]
  },
  {
   "cell_type": "markdown",
   "metadata": {},
   "source": [
    "Порядок операций **, *, /, +, - -> () скобки меняют порядок действий"
   ]
  },
  {
   "cell_type": "code",
   "execution_count": 13,
   "metadata": {},
   "outputs": [
    {
     "name": "stdout",
     "output_type": "stream",
     "text": [
      "<class 'int'>\n",
      "<class 'float'>\n"
     ]
    }
   ],
   "source": [
    "print(type(13 ** 5))  # функция возвращает тип данных объекта\n",
    "print(type(10 / 3))  "
   ]
  },
  {
   "cell_type": "markdown",
   "metadata": {},
   "source": [
    "# Переменные\n",
    "\n",
    "<ol>\n",
    "    <li>Понятные слова</li>\n",
    "    <li>Можно использовать цифры в названии, но цифра не может стоять на первом месте в названии. Можно <code>v1ar</code>, нельзя <code>1var</code></li>\n",
    "    <li>Нельзя использовать ничего, кроме букв, цифр и _</li>\n",
    "    <li>Используем змеиное написание -> <code>my_new_phone_number</code></li>\n",
    "</ol>"
   ]
  },
  {
   "cell_type": "code",
   "execution_count": 18,
   "metadata": {},
   "outputs": [
    {
     "name": "stdout",
     "output_type": "stream",
     "text": [
      "<class 'int'>\n",
      "True\n",
      "True\n"
     ]
    }
   ],
   "source": [
    "x = 2 ** 5\n",
    "print(type(x))\n",
    "y = x\n",
    "\n",
    "print(y == x)  # строгое равенство\n",
    "print(y is x)  # сравнение содержимого"
   ]
  },
  {
   "cell_type": "code",
   "execution_count": 19,
   "metadata": {},
   "outputs": [
    {
     "name": "stdout",
     "output_type": "stream",
     "text": [
      "Hello, World!\n"
     ]
    }
   ],
   "source": [
    "print('Hello, World!')"
   ]
  },
  {
   "cell_type": "code",
   "execution_count": 20,
   "metadata": {},
   "outputs": [
    {
     "name": "stdout",
     "output_type": "stream",
     "text": [
      "hello, world \n"
     ]
    }
   ],
   "source": [
    "import sys\n",
    "\n",
    "class HelloWorld:\n",
    "    def __init__(self):\n",
    "        self.message = 'hello, world \\n'\n",
    "    \n",
    "    def say(self):\n",
    "        sys.stdout.write(self.message)\n",
    "        \n",
    "        \n",
    "h = HelloWorld()\n",
    "h.say()"
   ]
  },
  {
   "cell_type": "markdown",
   "metadata": {},
   "source": [
    "# Строки\n",
    "\n",
    "<p>Строка - любая послетдовательность символов, заключенная в кавычки. Кавычки могут быть как двойными - \" \", так и одинарными - ' '.</p>\n",
    "\n",
    "# Строка должна начинаться с одного типа кавычек и заканчиваться им же\n",
    "\n",
    "### Конкатенация - сложение двух строк\n",
    "\n",
    "<p>НЕЛЬЗЯ сделать так <code>'f' + 2</code></p>"
   ]
  },
  {
   "cell_type": "code",
   "execution_count": 22,
   "metadata": {},
   "outputs": [
    {
     "name": "stdout",
     "output_type": "stream",
     "text": [
      "2a\n"
     ]
    }
   ],
   "source": [
    "print('2' + 'a')  "
   ]
  },
  {
   "cell_type": "markdown",
   "metadata": {},
   "source": [
    "### Имплементация - умножение строк на числа\n",
    "\n",
    "<p>НЕЛЬЗЯ сделать так <code>'f' + 'h'</code></p>"
   ]
  },
  {
   "cell_type": "code",
   "execution_count": 23,
   "metadata": {},
   "outputs": [
    {
     "name": "stdout",
     "output_type": "stream",
     "text": [
      "aaaaa\n"
     ]
    }
   ],
   "source": [
    "print('a' * 5)"
   ]
  },
  {
   "cell_type": "markdown",
   "metadata": {},
   "source": [
    "# Типизация и JavaScript\n",
    "\n",
    "<p>Типизация - набор правил языка, назначающая свойства различным конструкциям, которые составляют программу.</p>\n",
    "\n",
    "\n",
    "### Статичная типизация\n",
    "<p>При создании переменной надо указать тип данных, который она будет хранить. Другой тип данных сюда поставить нельзя. С++: <code>int a = 8;</code></p>\n",
    "\n",
    "\n",
    "### Динамическая типизация\n",
    "<p>При создании переменной тип данных не указывается и может меняться по мере исполнения кода.</p>"
   ]
  },
  {
   "cell_type": "code",
   "execution_count": 26,
   "metadata": {},
   "outputs": [
    {
     "name": "stdout",
     "output_type": "stream",
     "text": [
      "Привет, Андрей!\n"
     ]
    }
   ],
   "source": [
    "name = 'Привет, Андрей!'\n",
    "print(name)"
   ]
  },
  {
   "cell_type": "code",
   "execution_count": 27,
   "metadata": {},
   "outputs": [
    {
     "name": "stdout",
     "output_type": "stream",
     "text": [
      "8.648148148148149\n"
     ]
    }
   ],
   "source": [
    "name = 467 * 32 / 12 ** 3\n",
    "print(name)"
   ]
  },
  {
   "cell_type": "code",
   "execution_count": 30,
   "metadata": {},
   "outputs": [
    {
     "name": "stdout",
     "output_type": "stream",
     "text": [
      "Введите числоtwo\n"
     ]
    },
    {
     "ename": "ValueError",
     "evalue": "invalid literal for int() with base 10: 'two'",
     "output_type": "error",
     "traceback": [
      "\u001B[0;31m---------------------------------------------------------------------------\u001B[0m",
      "\u001B[0;31mValueError\u001B[0m                                Traceback (most recent call last)",
      "\u001B[0;32m/var/folders/kg/wys5qw45109bn_kq6647wwzw0000gn/T/ipykernel_2789/32211252.py\u001B[0m in \u001B[0;36m<module>\u001B[0;34m\u001B[0m\n\u001B[0;32m----> 1\u001B[0;31m \u001B[0mn\u001B[0m \u001B[0;34m=\u001B[0m \u001B[0mint\u001B[0m\u001B[0;34m(\u001B[0m\u001B[0minput\u001B[0m\u001B[0;34m(\u001B[0m\u001B[0;34m'Введите число'\u001B[0m\u001B[0;34m)\u001B[0m\u001B[0;34m)\u001B[0m\u001B[0;34m\u001B[0m\u001B[0;34m\u001B[0m\u001B[0m\n\u001B[0m\u001B[1;32m      2\u001B[0m \u001B[0;34m\u001B[0m\u001B[0m\n\u001B[1;32m      3\u001B[0m \u001B[0mprint\u001B[0m\u001B[0;34m(\u001B[0m\u001B[0mn\u001B[0m \u001B[0;34m%\u001B[0m \u001B[0;36m2\u001B[0m \u001B[0;34m==\u001B[0m \u001B[0;36m0\u001B[0m\u001B[0;34m)\u001B[0m\u001B[0;34m\u001B[0m\u001B[0;34m\u001B[0m\u001B[0m\n",
      "\u001B[0;31mValueError\u001B[0m: invalid literal for int() with base 10: 'two'"
     ]
    }
   ],
   "source": [
    "n = int(input('Введите число'))\n",
    "\n",
    "print(n % 2 == 0)"
   ]
  },
  {
   "cell_type": "code",
   "execution_count": null,
   "metadata": {},
   "outputs": [],
   "source": []
  }
 ],
 "metadata": {
  "kernelspec": {
   "display_name": "Python 3 (ipykernel)",
   "language": "python",
   "name": "python3"
  },
  "language_info": {
   "codemirror_mode": {
    "name": "ipython",
    "version": 3
   },
   "file_extension": ".py",
   "mimetype": "text/x-python",
   "name": "python",
   "nbconvert_exporter": "python",
   "pygments_lexer": "ipython3",
   "version": "3.7.1"
  }
 },
 "nbformat": 4,
 "nbformat_minor": 1
}