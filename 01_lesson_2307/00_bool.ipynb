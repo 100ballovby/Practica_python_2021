{
 "cells": [
  {
   "cell_type": "markdown",
   "metadata": {
    "collapsed": true
   },
   "source": [
    "# Bool\n",
    "\n",
    "<p>Булевые данные - это логический тип данных. Он критически простой. Более того, вы с ним уже сталкивались и даже сами были валидаторами булевых данных, просто вам этого не говорили</p>\n",
    "\n",
    "<p>В <code>&lt;class ‘bool’&gt;</code> Есть только 2 значения: True и False, как в заданиях на уроках английского. Вот вам и весь тип. Используется он для проверки. Например, если email пользователя есть в базе данных нашего сайта, при проверке мы получим True, что означает, что мы можем пустить этого пользователя в его личный кабинет.</p>\n",
    "    \n",
    "<p>Тип данных None, кстати, тоже часто используется с булами. Например, нужно заполнить данные в форме обратной связи. Форма не должна принимать обращения без заполнения поля email. Тогда мы напишем так: \n",
    "</p>"
   ]
  },
  {
   "cell_type": "code",
   "execution_count": null,
   "metadata": {},
   "outputs": [],
   "source": [
    "form = ContactForm()\n",
    "\n",
    "\n",
    "if form.email.data is None:\n",
    "    return redirect(contact, \n",
    "    message='The email field must be filled!', \n",
    "    flag='danger')\n",
    "else:\n",
    "    return redirect(success, \n",
    "    message='Your request has been accepted successfully!',\n",
    "    flag=‘success')"
   ]
  },
  {
   "cell_type": "markdown",
   "metadata": {},
   "source": [
    "# Алгоритмы\n",
    "\n",
    "<p><b>Алгоритм</b> - это последовательность действий для исполнителя, записанная на формальном языке и приводящая к заданной цели за конечное время.</p>"
   ]
  },
  {
   "cell_type": "code",
   "execution_count": null,
   "metadata": {},
   "outputs": [],
   "source": []
  }
 ],
 "metadata": {
  "kernelspec": {
   "display_name": "Python 3 (ipykernel)",
   "language": "python",
   "name": "python3"
  },
  "language_info": {
   "codemirror_mode": {
    "name": "ipython",
    "version": 3
   },
   "file_extension": ".py",
   "mimetype": "text/x-python",
   "name": "python",
   "nbconvert_exporter": "python",
   "pygments_lexer": "ipython3",
   "version": "3.7.1"
  }
 },
 "nbformat": 4,
 "nbformat_minor": 1
}