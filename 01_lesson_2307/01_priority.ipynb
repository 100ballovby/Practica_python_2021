{
 "cells": [
  {
   "cell_type": "code",
   "execution_count": 3,
   "metadata": {},
   "outputs": [
    {
     "name": "stdout",
     "output_type": "stream",
     "text": [
      "False\n"
     ]
    }
   ],
   "source": [
    "x = 3\n",
    "is_greater_than_possible = 4 + x > 5 * x ** 2 ** 7\n",
    "print(is_greater_than_possible)"
   ]
  },
  {
   "cell_type": "markdown",
   "metadata": {},
   "source": [
    "= - наименьший приоритет;<br>\n",
    "** - наивысший приоритет. Если их несколько, исполняются справа-налево"
   ]
  },
  {
   "cell_type": "code",
   "execution_count": 6,
   "metadata": {},
   "outputs": [
    {
     "name": "stdout",
     "output_type": "stream",
     "text": [
      "LOOSER\n"
     ]
    }
   ],
   "source": [
    "if is_greater_than_possible:\n",
    "    print('YOU ARE GREAT')\n",
    "else:\n",
    "    print('LOOSER')"
   ]
  },
  {
   "cell_type": "markdown",
   "metadata": {},
   "source": [
    "# Цикл while\n",
    "\n",
    "<b>Python:</b>\n",
    "while condition:<br>\n",
    "--->action<br>\n",
    "--->...<br>\n",
    "--->action_n<br>\n",
    "\n",
    "<b>Swift:</b>\n",
    "while (true) {<br>\n",
    "action_1<br>\n",
    "....<br>\n",
    "action_n<br>\n",
    "}"
   ]
  },
  {
   "cell_type": "code",
   "execution_count": 10,
   "metadata": {},
   "outputs": [
    {
     "name": "stdout",
     "output_type": "stream",
     "text": [
      "9\n",
      "8\n",
      "7\n",
      "6\n",
      "5\n",
      "4\n",
      "3\n",
      "2\n",
      "1\n",
      "0\n"
     ]
    }
   ],
   "source": [
    "x = 10\n",
    "while True:\n",
    "    x = x - 1\n",
    "    if x < 0:\n",
    "        break\n",
    "    print(x)"
   ]
  },
  {
   "cell_type": "markdown",
   "metadata": {},
   "source": [
    "### Декремент - модернизированное присваивание с уменьшением\n",
    "<p>x = x - 1 ---> <code>x -= 1</code></p>"
   ]
  },
  {
   "cell_type": "code",
   "execution_count": 11,
   "metadata": {},
   "outputs": [
    {
     "name": "stdout",
     "output_type": "stream",
     "text": [
      "9\n",
      "8\n",
      "7\n",
      "6\n",
      "5\n",
      "4\n",
      "3\n",
      "2\n",
      "1\n",
      "0\n"
     ]
    }
   ],
   "source": [
    "x = 10\n",
    "while True:\n",
    "    x -= 1\n",
    "    if x < 0:\n",
    "        break\n",
    "    print(x)"
   ]
  },
  {
   "cell_type": "markdown",
   "metadata": {},
   "source": [
    "### Инкремент - модернизированное присваивание с увеличением\n",
    "<p>x = x + 1 ---> <code>x += 1</code></p>\n",
    "<ul>\n",
    "    <li><code>+=</code></li>\n",
    "    <li><code>-=</code></li>\n",
    "    <li><code>*=</code></li>\n",
    "    <li><code>**=</code></li>\n",
    "    <li><code>/=</code></li>\n",
    "    <li><code>//=</code></li>\n",
    "    <li><code>%=</code></li>\n",
    "</ul>"
   ]
  },
  {
   "cell_type": "markdown",
   "metadata": {},
   "source": [
    "# Циклы\n",
    "\n",
    "<ul>\n",
    "    <li>Цикл с предусловием</li>\n",
    "    <li>Цикл с постусловием - в Python нет</li>\n",
    "    <li>Цикл с управляющей переменной (счетный)</li>\n",
    "</ul>\n"
   ]
  },
  {
   "cell_type": "code",
   "execution_count": 25,
   "metadata": {},
   "outputs": [
    {
     "name": "stdout",
     "output_type": "stream",
     "text": [
      "[13, 1, 35, 82, -94, 77, 79, -9, -59, 1, 17, 6, 48, -94, 20, 50, 66, -13, 59, 100]\n",
      "10\n"
     ]
    }
   ],
   "source": [
    "import random\n",
    "\n",
    "array = [random.randint(-100, 100) for i in range(20)]\n",
    "print(array)\n",
    "\n",
    "key = 17\n",
    "num = 0\n",
    "while array[num] != key:\n",
    "    num += 1\n",
    "print(num)"
   ]
  },
  {
   "cell_type": "code",
   "execution_count": 27,
   "metadata": {},
   "outputs": [
    {
     "name": "stdout",
     "output_type": "stream",
     "text": [
      "10\n",
      "9\n",
      "8\n",
      "7\n",
      "6\n",
      "5\n",
      "4\n",
      "3\n",
      "2\n",
      "1\n",
      "0\n"
     ]
    }
   ],
   "source": [
    "x = 10\n",
    "while x >= 0:\n",
    "    print(x)\n",
    "    x -= 1"
   ]
  },
  {
   "cell_type": "markdown",
   "metadata": {},
   "source": [
    "# Генератор арифметических прогрессий\n",
    "\n",
    "<code>\n",
    "x = start<br>\n",
    "while x > stop:<br>\n",
    "--->x -= step\n",
    "</code>\n",
    "\n"
   ]
  },
  {
   "cell_type": "code",
   "execution_count": 33,
   "metadata": {},
   "outputs": [
    {
     "name": "stdout",
     "output_type": "stream",
     "text": [
      "4\n",
      "49\n",
      "25\n"
     ]
    }
   ],
   "source": [
    "for i in 2, 7, 5:\n",
    "    print(i ** 2)"
   ]
  },
  {
   "cell_type": "markdown",
   "metadata": {},
   "source": [
    "## Magic range\n",
    "\n",
    "<code>range(s, s, s)</code>\n",
    "<ul>\n",
    "    <li><code>range(10)</code> - последовательность от 0 до 9 включительно;</li>\n",
    "    <li><code>range(50, 100)</code> - последовательность от 50 до 99</li>\n",
    "    <li><code>range(1, 12, 2)</code> - последовательность от 1 до 11, при этом все числа будут нечетными.</li>\n",
    "</ul>"
   ]
  },
  {
   "cell_type": "code",
   "execution_count": 36,
   "metadata": {},
   "outputs": [
    {
     "name": "stdout",
     "output_type": "stream",
     "text": [
      "1\n",
      "3\n",
      "5\n",
      "7\n",
      "9\n",
      "11\n",
      "\n",
      "10\n",
      "9\n",
      "8\n",
      "7\n",
      "6\n",
      "5\n",
      "4\n",
      "3\n",
      "2\n",
      "1\n",
      "0\n"
     ]
    }
   ],
   "source": [
    "for num in range(1, 12, 2):\n",
    "    print(num)\n",
    "    \n",
    "print()\n",
    "\n",
    "for num in range(10, -1, -1):\n",
    "    print(num)"
   ]
  },
  {
   "cell_type": "markdown",
   "metadata": {},
   "source": [
    "# Задача \n",
    "\n",
    "<p>Вводится два целых числа x и у. Необходимо определить, в какой из четвертей координатной плоскости находятся эти числа.</p>\n",
    "\n",
    "## Вариант 1 - рассечение вероятности"
   ]
  },
  {
   "cell_type": "code",
   "execution_count": 38,
   "metadata": {},
   "outputs": [
    {
     "name": "stdout",
     "output_type": "stream",
     "text": [
      "x: -5\n",
      "y: 4\n",
      "1 or 2\n"
     ]
    }
   ],
   "source": [
    "x = int(input('x: '))\n",
    "y = int(input('y: '))\n",
    "\n",
    "# каскадное ветвление (условие)\n",
    "if y > 0:\n",
    "    print('1 or 2')\n",
    "else:\n",
    "    print('3 or 4')"
   ]
  },
  {
   "cell_type": "code",
   "execution_count": 42,
   "metadata": {},
   "outputs": [
    {
     "name": "stdout",
     "output_type": "stream",
     "text": [
      "x: -3\n",
      "y: 5\n",
      "2\n"
     ]
    }
   ],
   "source": [
    "x = int(input('x: '))\n",
    "y = int(input('y: '))\n",
    "\n",
    "# вложенное ветвление (условие)\n",
    "if y > 0:\n",
    "    if x > 0:\n",
    "        print(1)\n",
    "    else:\n",
    "        print(2)\n",
    "else:\n",
    "    if x < 0:\n",
    "        print(3)\n",
    "    else:\n",
    "        print(4)"
   ]
  },
  {
   "cell_type": "code",
   "execution_count": 43,
   "metadata": {},
   "outputs": [
    {
     "name": "stdout",
     "output_type": "stream",
     "text": [
      "The Zen of Python, by Tim Peters\n",
      "\n",
      "Beautiful is better than ugly.\n",
      "Explicit is better than implicit.\n",
      "Simple is better than complex.\n",
      "Complex is better than complicated.\n",
      "Flat is better than nested.\n",
      "Sparse is better than dense.\n",
      "Readability counts.\n",
      "Special cases aren't special enough to break the rules.\n",
      "Although practicality beats purity.\n",
      "Errors should never pass silently.\n",
      "Unless explicitly silenced.\n",
      "In the face of ambiguity, refuse the temptation to guess.\n",
      "There should be one-- and preferably only one --obvious way to do it.\n",
      "Although that way may not be obvious at first unless you're Dutch.\n",
      "Now is better than never.\n",
      "Although never is often better than *right* now.\n",
      "If the implementation is hard to explain, it's a bad idea.\n",
      "If the implementation is easy to explain, it may be a good idea.\n",
      "Namespaces are one honking great idea -- let's do more of those!\n"
     ]
    }
   ],
   "source": [
    "import this"
   ]
  },
  {
   "cell_type": "markdown",
   "metadata": {},
   "source": [
    "## Логические операции\n",
    "\n",
    "<ul>\n",
    "    <li><b>НЕ (not | !)</b> - логическое отрицание. Наивысший приоритет;</li>\n",
    "    <li><b>И (and | &)</b> - логическое умножение.</li>\n",
    "    <li><b>ИЛИ (or | |)</b> - логическое сложение.</li>\n",
    "</ul>\n",
    "\n",
    "#### И\n",
    "<p>1 * 0 = 0</p>\n",
    "<p>0 * 0 = 0</p>\n",
    "<p>0 * 1 = 0</p>\n",
    "<p>1 * 1 = 1</p>"
   ]
  },
  {
   "cell_type": "code",
   "execution_count": 46,
   "metadata": {},
   "outputs": [
    {
     "name": "stdout",
     "output_type": "stream",
     "text": [
      "True\n"
     ]
    }
   ],
   "source": [
    "l = 49\n",
    "h = 19\n",
    "d = 14\n",
    "\n",
    "# если длина <= 50 И ширина <= 20 И глубина <= 15 - багаж пускаем\n",
    "print(l <= 50 and h <= 20 and d <= 15)"
   ]
  },
  {
   "cell_type": "markdown",
   "metadata": {},
   "source": [
    "#### ИЛИ\n",
    "<p>1 + 0 = 1</p>\n",
    "<p>0 + 0 = 0</p>\n",
    "<p>0 + 1 = 1</p>\n",
    "<p>1 + 1 = 1</p>"
   ]
  },
  {
   "cell_type": "code",
   "execution_count": 50,
   "metadata": {},
   "outputs": [
    {
     "name": "stdout",
     "output_type": "stream",
     "text": [
      "Susan True\n",
      "Bill True\n",
      "Megan False\n"
     ]
    }
   ],
   "source": [
    "students = {\n",
    "    'Susan': [80, 100, 70, True],\n",
    "    'Bill': [40, 20, 15, True],\n",
    "    'Megan': [70, 30, 82, False]\n",
    "}\n",
    "\n",
    "# сумма баллов по экзаменам > 200 ИЛИ олимпиада\n",
    "for name, d in students.items():\n",
    "    print(name, (d[0] + d[1] + d[2] >= 200) or d[3])"
   ]
  },
  {
   "cell_type": "markdown",
   "metadata": {},
   "source": [
    "# Решение 2 - приятное"
   ]
  },
  {
   "cell_type": "code",
   "execution_count": 52,
   "metadata": {},
   "outputs": [
    {
     "name": "stdout",
     "output_type": "stream",
     "text": [
      "x: 5\n",
      "y: -4\n",
      "4\n"
     ]
    }
   ],
   "source": [
    "x = int(input('x: '))\n",
    "y = int(input('y: '))\n",
    "\n",
    "# вложенное ветвление (условие)\n",
    "if x > 0 and y > 0:\n",
    "    print(1)    \n",
    "elif x < 0 and  y > 0:\n",
    "    print(2)\n",
    "elif x < 0 and y < 0:\n",
    "    print(3)\n",
    "elif x > 0 and y < 0:\n",
    "    print(4)\n",
    "else:\n",
    "    print('Never')\n",
    "   "
   ]
  },
  {
   "cell_type": "code",
   "execution_count": null,
   "metadata": {},
   "outputs": [],
   "source": []
  }
 ],
 "metadata": {
  "kernelspec": {
   "display_name": "Python 3 (ipykernel)",
   "language": "python",
   "name": "python3"
  },
  "language_info": {
   "codemirror_mode": {
    "name": "ipython",
    "version": 3
   },
   "file_extension": ".py",
   "mimetype": "text/x-python",
   "name": "python",
   "nbconvert_exporter": "python",
   "pygments_lexer": "ipython3",
   "version": "3.7.1"
  }
 },
 "nbformat": 4,
 "nbformat_minor": 1
}
