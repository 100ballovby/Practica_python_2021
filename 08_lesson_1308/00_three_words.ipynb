{
 "cells": [
  {
   "cell_type": "markdown",
   "metadata": {
    "collapsed": true,
    "pycharm": {
     "is_executing": true
    }
   },
   "source": [
    "# Инкапсуляция, наследование, полиморфизм\n",
    "\n",
    "<p>Класс = код + данные.</p>\n",
    "\n",
    "# Инкапсуляция\n",
    "\n",
    "\n",
    "<p>Инкапсуляция - это способ защиты данных от воздействия извне.</p>\n",
    "\n",
    "# Наследование\n",
    "\n",
    "<p>На основе одного класса создается новый класс.</p>\n",
    "\n",
    "# Полиморфизм\n",
    "\n",
    "<p>Использовать методы родительского класса у наследуемых классов.</p>"
   ]
  },
  {
   "cell_type": "code",
   "execution_count": null,
   "metadata": {},
   "outputs": [],
   "source": []
  }
 ],
 "metadata": {
  "kernelspec": {
   "display_name": "Python 3 (ipykernel)",
   "language": "python",
   "name": "python3"
  },
  "language_info": {
   "codemirror_mode": {
    "name": "ipython",
    "version": 3
   },
   "file_extension": ".py",
   "mimetype": "text/x-python",
   "name": "python",
   "nbconvert_exporter": "python",
   "pygments_lexer": "ipython3",
   "version": "3.7.1"
  }
 },
 "nbformat": 4,
 "nbformat_minor": 1
}